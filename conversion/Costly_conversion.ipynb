{
 "cells": [
  {
   "cell_type": "markdown",
   "metadata": {},
   "source": [
    "## Costly conversion data challenge\n",
    "\n",
    "### Aims: \n",
    "- Understand some of the main drivers for customer conversion \n",
    "- Assess the cost and outcome of the experiment \n",
    "- Could the experiment have been done on a shorter timescale?\n",
    "- What could have been improved?"
   ]
  },
  {
   "cell_type": "code",
   "execution_count": 74,
   "metadata": {},
   "outputs": [],
   "source": [
    "import pandas as pd\n",
    "import seaborn as sns\n",
    "import numpy as np\n",
    "from statsmodels.stats.proportion import proportions_ztest\n",
    "import matplotlib.pyplot as plt\n",
    "%matplotlib inline"
   ]
  },
  {
   "cell_type": "code",
   "execution_count": 25,
   "metadata": {},
   "outputs": [],
   "source": [
    "plt.style.use('ggplot')"
   ]
  },
  {
   "cell_type": "code",
   "execution_count": 26,
   "metadata": {},
   "outputs": [],
   "source": [
    "testdf = pd.read_csv('test_results.csv') #contains control and test \n",
    "userdf = pd.read_csv('user_table.csv') #contains information about the user"
   ]
  },
  {
   "cell_type": "code",
   "execution_count": 27,
   "metadata": {},
   "outputs": [
    {
     "data": {
      "text/html": [
       "<div>\n",
       "<style scoped>\n",
       "    .dataframe tbody tr th:only-of-type {\n",
       "        vertical-align: middle;\n",
       "    }\n",
       "\n",
       "    .dataframe tbody tr th {\n",
       "        vertical-align: top;\n",
       "    }\n",
       "\n",
       "    .dataframe thead th {\n",
       "        text-align: right;\n",
       "    }\n",
       "</style>\n",
       "<table border=\"1\" class=\"dataframe\">\n",
       "  <thead>\n",
       "    <tr style=\"text-align: right;\">\n",
       "      <th></th>\n",
       "      <th>Unnamed: 0</th>\n",
       "      <th>user_id</th>\n",
       "      <th>timestamp</th>\n",
       "      <th>source</th>\n",
       "      <th>device</th>\n",
       "      <th>operative_system</th>\n",
       "      <th>test</th>\n",
       "      <th>price</th>\n",
       "      <th>converted</th>\n",
       "    </tr>\n",
       "  </thead>\n",
       "  <tbody>\n",
       "    <tr>\n",
       "      <th>0</th>\n",
       "      <td>0</td>\n",
       "      <td>604839</td>\n",
       "      <td>2015-05-08 03:38:34</td>\n",
       "      <td>ads_facebook</td>\n",
       "      <td>mobile</td>\n",
       "      <td>iOS</td>\n",
       "      <td>0</td>\n",
       "      <td>39.0</td>\n",
       "      <td>0</td>\n",
       "    </tr>\n",
       "    <tr>\n",
       "      <th>1</th>\n",
       "      <td>1</td>\n",
       "      <td>624057</td>\n",
       "      <td>2015-05-10 21:08:46</td>\n",
       "      <td>seo-google</td>\n",
       "      <td>mobile</td>\n",
       "      <td>android</td>\n",
       "      <td>0</td>\n",
       "      <td>39.0</td>\n",
       "      <td>0</td>\n",
       "    </tr>\n",
       "    <tr>\n",
       "      <th>2</th>\n",
       "      <td>2</td>\n",
       "      <td>317970</td>\n",
       "      <td>2015-04-04 15:01:23</td>\n",
       "      <td>ads-bing</td>\n",
       "      <td>mobile</td>\n",
       "      <td>android</td>\n",
       "      <td>0</td>\n",
       "      <td>39.0</td>\n",
       "      <td>0</td>\n",
       "    </tr>\n",
       "    <tr>\n",
       "      <th>3</th>\n",
       "      <td>3</td>\n",
       "      <td>685636</td>\n",
       "      <td>2015-05-07 07:26:01</td>\n",
       "      <td>direct_traffic</td>\n",
       "      <td>mobile</td>\n",
       "      <td>iOS</td>\n",
       "      <td>1</td>\n",
       "      <td>59.0</td>\n",
       "      <td>0</td>\n",
       "    </tr>\n",
       "    <tr>\n",
       "      <th>4</th>\n",
       "      <td>4</td>\n",
       "      <td>820854</td>\n",
       "      <td>2015-05-24 11:04:40</td>\n",
       "      <td>ads_facebook</td>\n",
       "      <td>web</td>\n",
       "      <td>mac</td>\n",
       "      <td>0</td>\n",
       "      <td>39.0</td>\n",
       "      <td>0</td>\n",
       "    </tr>\n",
       "  </tbody>\n",
       "</table>\n",
       "</div>"
      ],
      "text/plain": [
       "   Unnamed: 0  user_id            timestamp          source  device  \\\n",
       "0           0   604839  2015-05-08 03:38:34    ads_facebook  mobile   \n",
       "1           1   624057  2015-05-10 21:08:46      seo-google  mobile   \n",
       "2           2   317970  2015-04-04 15:01:23        ads-bing  mobile   \n",
       "3           3   685636  2015-05-07 07:26:01  direct_traffic  mobile   \n",
       "4           4   820854  2015-05-24 11:04:40    ads_facebook     web   \n",
       "\n",
       "  operative_system  test  price  converted  \n",
       "0              iOS     0   39.0          0  \n",
       "1          android     0   39.0          0  \n",
       "2          android     0   39.0          0  \n",
       "3              iOS     1   59.0          0  \n",
       "4              mac     0   39.0          0  "
      ]
     },
     "execution_count": 27,
     "metadata": {},
     "output_type": "execute_result"
    }
   ],
   "source": [
    "testdf.head()"
   ]
  },
  {
   "cell_type": "code",
   "execution_count": 28,
   "metadata": {},
   "outputs": [
    {
     "data": {
      "text/html": [
       "<div>\n",
       "<style scoped>\n",
       "    .dataframe tbody tr th:only-of-type {\n",
       "        vertical-align: middle;\n",
       "    }\n",
       "\n",
       "    .dataframe tbody tr th {\n",
       "        vertical-align: top;\n",
       "    }\n",
       "\n",
       "    .dataframe thead th {\n",
       "        text-align: right;\n",
       "    }\n",
       "</style>\n",
       "<table border=\"1\" class=\"dataframe\">\n",
       "  <thead>\n",
       "    <tr style=\"text-align: right;\">\n",
       "      <th></th>\n",
       "      <th>user_id</th>\n",
       "      <th>city</th>\n",
       "      <th>country</th>\n",
       "      <th>lat</th>\n",
       "      <th>long</th>\n",
       "    </tr>\n",
       "  </thead>\n",
       "  <tbody>\n",
       "    <tr>\n",
       "      <th>0</th>\n",
       "      <td>510335</td>\n",
       "      <td>Peabody</td>\n",
       "      <td>USA</td>\n",
       "      <td>42.53</td>\n",
       "      <td>-70.97</td>\n",
       "    </tr>\n",
       "    <tr>\n",
       "      <th>1</th>\n",
       "      <td>89568</td>\n",
       "      <td>Reno</td>\n",
       "      <td>USA</td>\n",
       "      <td>39.54</td>\n",
       "      <td>-119.82</td>\n",
       "    </tr>\n",
       "    <tr>\n",
       "      <th>2</th>\n",
       "      <td>434134</td>\n",
       "      <td>Rialto</td>\n",
       "      <td>USA</td>\n",
       "      <td>34.11</td>\n",
       "      <td>-117.39</td>\n",
       "    </tr>\n",
       "    <tr>\n",
       "      <th>3</th>\n",
       "      <td>289769</td>\n",
       "      <td>Carson City</td>\n",
       "      <td>USA</td>\n",
       "      <td>39.15</td>\n",
       "      <td>-119.74</td>\n",
       "    </tr>\n",
       "    <tr>\n",
       "      <th>4</th>\n",
       "      <td>939586</td>\n",
       "      <td>Chicago</td>\n",
       "      <td>USA</td>\n",
       "      <td>41.84</td>\n",
       "      <td>-87.68</td>\n",
       "    </tr>\n",
       "  </tbody>\n",
       "</table>\n",
       "</div>"
      ],
      "text/plain": [
       "   user_id         city country    lat    long\n",
       "0   510335      Peabody     USA  42.53  -70.97\n",
       "1    89568         Reno     USA  39.54 -119.82\n",
       "2   434134       Rialto     USA  34.11 -117.39\n",
       "3   289769  Carson City     USA  39.15 -119.74\n",
       "4   939586      Chicago     USA  41.84  -87.68"
      ]
     },
     "execution_count": 28,
     "metadata": {},
     "output_type": "execute_result"
    }
   ],
   "source": [
    "userdf.head()"
   ]
  },
  {
   "cell_type": "markdown",
   "metadata": {},
   "source": [
    "There is one row per first time user visit, so each visit is unique"
   ]
  },
  {
   "cell_type": "code",
   "execution_count": 29,
   "metadata": {},
   "outputs": [
    {
     "data": {
      "text/plain": [
       "0"
      ]
     },
     "execution_count": 29,
     "metadata": {},
     "output_type": "execute_result"
    }
   ],
   "source": [
    "len(testdf['user_id'].unique()) - len(testdf)"
   ]
  },
  {
   "cell_type": "code",
   "execution_count": 30,
   "metadata": {},
   "outputs": [
    {
     "data": {
      "text/plain": [
       "Unnamed: 0            int64\n",
       "user_id               int64\n",
       "timestamp            object\n",
       "source               object\n",
       "device               object\n",
       "operative_system     object\n",
       "test                  int64\n",
       "price               float64\n",
       "converted             int64\n",
       "dtype: object"
      ]
     },
     "execution_count": 30,
     "metadata": {},
     "output_type": "execute_result"
    }
   ],
   "source": [
    "testdf.dtypes"
   ]
  },
  {
   "cell_type": "code",
   "execution_count": 31,
   "metadata": {},
   "outputs": [
    {
     "data": {
      "text/plain": [
       "user_id      int64\n",
       "city        object\n",
       "country     object\n",
       "lat        float64\n",
       "long       float64\n",
       "dtype: object"
      ]
     },
     "execution_count": 31,
     "metadata": {},
     "output_type": "execute_result"
    }
   ],
   "source": [
    "userdf.dtypes"
   ]
  },
  {
   "cell_type": "markdown",
   "metadata": {},
   "source": [
    "Merge the tables"
   ]
  },
  {
   "cell_type": "code",
   "execution_count": 42,
   "metadata": {},
   "outputs": [],
   "source": [
    "merged_table = pd.merge(testdf,userdf,on='user_id',how='outer')"
   ]
  },
  {
   "cell_type": "markdown",
   "metadata": {},
   "source": [
    "Check proportion of NaNs"
   ]
  },
  {
   "cell_type": "code",
   "execution_count": 43,
   "metadata": {},
   "outputs": [
    {
     "data": {
      "text/plain": [
       "Unnamed: 0          0.000000\n",
       "user_id             0.000000\n",
       "timestamp           0.001054\n",
       "source              0.000985\n",
       "device              0.000000\n",
       "operative_system    0.064201\n",
       "test                0.000000\n",
       "price               0.000000\n",
       "converted           0.000000\n",
       "city                0.130000\n",
       "country             0.130000\n",
       "lat                 0.130000\n",
       "long                0.130000\n",
       "dtype: float64"
      ]
     },
     "execution_count": 43,
     "metadata": {},
     "output_type": "execute_result"
    }
   ],
   "source": [
    "merged_table.isna().sum()/len(merged_table)"
   ]
  },
  {
   "cell_type": "markdown",
   "metadata": {},
   "source": [
    "Check the unique values in the operating system and source columns"
   ]
  },
  {
   "cell_type": "code",
   "execution_count": 44,
   "metadata": {},
   "outputs": [
    {
     "data": {
      "text/plain": [
       "array(['iOS', 'android', 'mac', 'windows', nan, 'i0S', 'wnddows',\n",
       "       'anroid', 'apple'], dtype=object)"
      ]
     },
     "execution_count": 44,
     "metadata": {},
     "output_type": "execute_result"
    }
   ],
   "source": [
    "merged_table['operative_system'].unique()"
   ]
  },
  {
   "cell_type": "code",
   "execution_count": 45,
   "metadata": {},
   "outputs": [
    {
     "data": {
      "text/plain": [
       "array(['ads_facebook', 'seo-google', 'ads-bing', 'direct_traffic',\n",
       "       'ads-google', 'seo_facebook', 'friend_referral', 'ads_other',\n",
       "       'ads-yahoo', 'seo-yahoo', 'seo-bing', 'seo-other', nan],\n",
       "      dtype=object)"
      ]
     },
     "execution_count": 45,
     "metadata": {},
     "output_type": "execute_result"
    }
   ],
   "source": [
    "merged_table['source'].unique()"
   ]
  },
  {
   "cell_type": "code",
   "execution_count": 46,
   "metadata": {},
   "outputs": [],
   "source": [
    "#Functions to remove strange entries in the columns we want to use\n",
    "\n",
    "def convert_datetime(val):\n",
    "    \n",
    "    try:\n",
    "        val = pd.to_datetime(val)\n",
    "    except:\n",
    "        val = np.nan\n",
    "        \n",
    "    return val\n",
    "\n",
    "def remove_bad_prices(val):\n",
    "    \n",
    "    if val in [59.0,39.0]:\n",
    "        return val\n",
    "    else:\n",
    "        return np.nan\n",
    "\n",
    "def remove_bad_os(val):\n",
    "    \n",
    "    if val in ['iOS','i0S']:\n",
    "        return 'ios'\n",
    "    elif val in ['windows','wnddows']:\n",
    "        return 'windows'\n",
    "    elif val in ['anroid','android']:\n",
    "        return 'android'\n",
    "    elif val in ['mac','apple']:\n",
    "        return 'mac'\n",
    "    else:\n",
    "        return np.nan\n",
    "    \n",
    "def remove_bad_source(val):\n",
    "    \n",
    "    if val in ['ads_facebook', 'seo-google', 'ads-bing', 'direct_traffic',\n",
    "               'ads-google', 'seo_facebook', 'friend_referral', 'ads_other',\n",
    "               'ads-yahoo', 'seo-yahoo', 'seo-bing', 'seo-other']:\n",
    "        return val\n",
    "    else:\n",
    "        return np.nan"
   ]
  },
  {
   "cell_type": "code",
   "execution_count": 47,
   "metadata": {},
   "outputs": [],
   "source": [
    "merged_table['timestamp_mod'] = merged_table['timestamp'].apply(convert_datetime)"
   ]
  },
  {
   "cell_type": "code",
   "execution_count": 48,
   "metadata": {},
   "outputs": [],
   "source": [
    "merged_table['price'] = merged_table['price'].apply(remove_bad_prices)\n",
    "merged_table['operative_system'] = merged_table['operative_system'].apply(remove_bad_os)\n",
    "merged_table['source'] = merged_table['source'].apply(remove_bad_source)"
   ]
  },
  {
   "cell_type": "code",
   "execution_count": 49,
   "metadata": {},
   "outputs": [
    {
     "data": {
      "text/plain": [
       "Unnamed: 0          0.000000\n",
       "user_id             0.000000\n",
       "timestamp           0.001054\n",
       "source              0.000985\n",
       "device              0.000000\n",
       "operative_system    0.064201\n",
       "test                0.000000\n",
       "price               0.009703\n",
       "converted           0.000000\n",
       "city                0.130000\n",
       "country             0.130000\n",
       "lat                 0.130000\n",
       "long                0.130000\n",
       "timestamp_mod       0.034391\n",
       "dtype: float64"
      ]
     },
     "execution_count": 49,
     "metadata": {},
     "output_type": "execute_result"
    }
   ],
   "source": [
    "merged_table.isna().sum()/len(merged_table)"
   ]
  },
  {
   "cell_type": "code",
   "execution_count": 50,
   "metadata": {},
   "outputs": [],
   "source": [
    "##Lets only consider users for which we have all the information\n",
    "merged_table.dropna(inplace=True)"
   ]
  },
  {
   "cell_type": "code",
   "execution_count": 51,
   "metadata": {},
   "outputs": [
    {
     "data": {
      "text/plain": [
       "Unnamed: 0          0.0\n",
       "user_id             0.0\n",
       "timestamp           0.0\n",
       "source              0.0\n",
       "device              0.0\n",
       "operative_system    0.0\n",
       "test                0.0\n",
       "price               0.0\n",
       "converted           0.0\n",
       "city                0.0\n",
       "country             0.0\n",
       "lat                 0.0\n",
       "long                0.0\n",
       "timestamp_mod       0.0\n",
       "dtype: float64"
      ]
     },
     "execution_count": 51,
     "metadata": {},
     "output_type": "execute_result"
    }
   ],
   "source": [
    "merged_table.isna().sum()/len(merged_table)"
   ]
  },
  {
   "cell_type": "markdown",
   "metadata": {},
   "source": [
    "### 1: What proportion of users who saw the two prices converted?"
   ]
  },
  {
   "cell_type": "code",
   "execution_count": 52,
   "metadata": {},
   "outputs": [],
   "source": [
    "control = merged_table[merged_table['test']==0]\n",
    "test = merged_table[merged_table['test']==1]"
   ]
  },
  {
   "cell_type": "code",
   "execution_count": 61,
   "metadata": {},
   "outputs": [
    {
     "data": {
      "image/png": "[encoded data removed]",
      "text/plain": [
       "<Figure size 720x360 with 2 Axes>"
      ]
     },
     "metadata": {},
     "output_type": "display_data"
    }
   ],
   "source": [
    "fig = plt.figure(figsize = (10,5))\n",
    "ax1 = fig.add_subplot(121)\n",
    "ax2 = fig.add_subplot(122)\n",
    "sns.countplot(x='operative_system',data=control[control['converted']==1],order=['windows','android','mac','ios'],ax=ax1)\n",
    "sns.countplot(x='operative_system',data=control[control['converted']==0],order=['windows','android','mac','ios'],ax=ax2)\n",
    "ax1.set_title('Control group: Did convert')\n",
    "ax2.set_title('Control group: Did not convert')\n",
    "plt.tight_layout()\n",
    "plt.savefig('Control_opsys.png',dpi=200)"
   ]
  },
  {
   "cell_type": "code",
   "execution_count": 62,
   "metadata": {},
   "outputs": [
    {
     "data": {
      "image/png": "[encoded data removed]",
      "text/plain": [
       "<Figure size 720x360 with 2 Axes>"
      ]
     },
     "metadata": {},
     "output_type": "display_data"
    }
   ],
   "source": [
    "fig = plt.figure(figsize = (10,5))\n",
    "ax1 = fig.add_subplot(121)\n",
    "ax2 = fig.add_subplot(122)\n",
    "sns.countplot(x='operative_system',data=test[test['converted']==1],order=['windows','android','mac','ios'],ax=ax1)\n",
    "sns.countplot(x='operative_system',data=test[test['converted']==0],order=['windows','android','mac','ios'],ax=ax2)\n",
    "ax1.set_title('Test group: Did convert')\n",
    "ax2.set_title('Test group: Did not convert')\n",
    "plt.tight_layout()\n",
    "plt.savefig('Test_opsys.png',dpi=200)"
   ]
  },
  {
   "cell_type": "markdown",
   "metadata": {},
   "source": [
    "### 2. What proportion of users from various sources converted"
   ]
  },
  {
   "cell_type": "code",
   "execution_count": 133,
   "metadata": {},
   "outputs": [
    {
     "data": {
      "image/png": "[encoded data removed]",
      "text/plain": [
       "<Figure size 1080x504 with 2 Axes>"
      ]
     },
     "metadata": {
      "needs_background": "light"
     },
     "output_type": "display_data"
    }
   ],
   "source": [
    "sources = list(test['source'].unique())\n",
    "fig = plt.figure(figsize=(15,7))\n",
    "ax1 = fig.add_subplot(211)\n",
    "ax2 = fig.add_subplot(212)\n",
    "sns.countplot(x='source',data=control[control['converted']==1],order=sources,ax=ax1)\n",
    "sns.countplot(x='source',data=control[control['converted']==0],order=sources,ax=ax2)\n",
    "ax1.set_title('Control group: Did convert')\n",
    "ax2.set_title('Control group: Did not convert')\n",
    "plt.tight_layout()\n",
    "plt.savefig('Control_source.png',dpi=200)"
   ]
  },
  {
   "cell_type": "code",
   "execution_count": 134,
   "metadata": {},
   "outputs": [
    {
     "data": {
      "image/png": "[encoded data removed]",
      "text/plain": [
       "<Figure size 1080x504 with 2 Axes>"
      ]
     },
     "metadata": {
      "needs_background": "light"
     },
     "output_type": "display_data"
    }
   ],
   "source": [
    "sources = list(test['source'].unique())\n",
    "fig = plt.figure(figsize=(15,7))\n",
    "ax1 = fig.add_subplot(211)\n",
    "ax2 = fig.add_subplot(212)\n",
    "sns.countplot(x='source',data=test[test['converted']==1],order=sources,ax=ax1)\n",
    "sns.countplot(x='source',data=test[test['converted']==0],order=sources,ax=ax2)\n",
    "ax1.set_title('Test group: Did convert')\n",
    "ax2.set_title('Test group: Did not convert')\n",
    "plt.tight_layout()\n",
    "plt.savefig('Test_source.png',dpi=200)"
   ]
  },
  {
   "cell_type": "markdown",
   "metadata": {},
   "source": [
    "### Check that the length of the control and test datasets make sense"
   ]
  },
  {
   "cell_type": "code",
   "execution_count": 65,
   "metadata": {},
   "outputs": [
    {
     "data": {
      "text/plain": [
       "0.6408625113680655"
      ]
     },
     "execution_count": 65,
     "metadata": {},
     "output_type": "execute_result"
    }
   ],
   "source": [
    "len(control)/(len(control)+len(test))"
   ]
  },
  {
   "cell_type": "code",
   "execution_count": 66,
   "metadata": {},
   "outputs": [
    {
     "data": {
      "text/plain": [
       "0.3591374886319345"
      ]
     },
     "execution_count": 66,
     "metadata": {},
     "output_type": "execute_result"
    }
   ],
   "source": [
    "len(test)/(len(control)+len(test))"
   ]
  },
  {
   "cell_type": "code",
   "execution_count": 67,
   "metadata": {},
   "outputs": [
    {
     "data": {
      "text/plain": [
       "<matplotlib.axes._subplots.AxesSubplot at 0x1a2b805d68>"
      ]
     },
     "execution_count": 67,
     "metadata": {},
     "output_type": "execute_result"
    },
    {
     "data": {
      "image/png": "[encoded data removed]",
      "text/plain": [
       "<Figure size 432x288 with 1 Axes>"
      ]
     },
     "metadata": {},
     "output_type": "display_data"
    }
   ],
   "source": [
    "sns.countplot(x='test',data=merged_table)"
   ]
  },
  {
   "cell_type": "markdown",
   "metadata": {},
   "source": [
    "### 3. What proportion of the two groups converted? What is mean value per visit in each case?  \n",
    "We are just finding  mean of a population containing just ones and zeros.     \n",
    "We can use a proportional z-test to see if the difference between sample means is significant.   "
   ]
  },
  {
   "cell_type": "code",
   "execution_count": 68,
   "metadata": {},
   "outputs": [],
   "source": [
    "proportion_control_converted_value  = 39*len(control[control['converted']==1])/len(control)\n",
    "proportion_test_converted_value  = 59*len(test[test['converted']==1])/len(test)\n",
    "\n",
    "sum_control_revenue = control[control['converted']==1]['price'].sum()\n",
    "sum_test_revenue = test[test['converted']==1]['price'].sum()"
   ]
  },
  {
   "cell_type": "code",
   "execution_count": 69,
   "metadata": {},
   "outputs": [],
   "source": [
    "heights_control = [len(control[control['converted']==1])/len(control),len(control[control['converted']==0])/len(control)]\n",
    "heights_test = [len(test[test['converted']==1])/len(test),len(test[test['converted']==0])/len(test)]"
   ]
  },
  {
   "cell_type": "code",
   "execution_count": 70,
   "metadata": {},
   "outputs": [
    {
     "data": {
      "text/plain": [
       "([0.02024111956514853, 0.9797588804348515],\n",
       " [0.015973863006884702, 0.9840261369931153])"
      ]
     },
     "execution_count": 70,
     "metadata": {},
     "output_type": "execute_result"
    }
   ],
   "source": [
    "heights_control,heights_test"
   ]
  },
  {
   "cell_type": "code",
   "execution_count": 71,
   "metadata": {},
   "outputs": [
    {
     "data": {
      "image/png": "[encoded data removed]",
      "text/plain": [
       "<Figure size 576x432 with 2 Axes>"
      ]
     },
     "metadata": {},
     "output_type": "display_data"
    }
   ],
   "source": [
    "#Plot the proportion of users who converted in control and test groups\n",
    "fig = plt.figure(figsize=(8,6))\n",
    "ax1 = fig.add_subplot(121)\n",
    "ax2 = fig.add_subplot(122)\n",
    "ax1.bar(x=['Yes','No'],height=heights_control,color='red',alpha=0.5)\n",
    "\n",
    "for i, v in enumerate(heights_control):\n",
    "    ax1.text(v-0.2, i + 0.05, '%.4f' %v, fontweight='bold')\n",
    "    \n",
    "ax2.bar(x=['Yes','No'],height=heights_test,color='blue',alpha=0.5)\n",
    "\n",
    "for i, v in enumerate(heights_test):\n",
    "    ax2.text(v-0.2, i + 0.05, '%.4f' %v, fontweight='bold')\n",
    "    \n",
    "ax1.set_title('C')\n",
    "ax2.set_title('T')\n",
    "plt.savefig('Conversion_rates.png',dpi=200)"
   ]
  },
  {
   "cell_type": "code",
   "execution_count": 72,
   "metadata": {},
   "outputs": [
    {
     "data": {
      "text/plain": [
       "(0.7894036630407927, 0.9424579174061973)"
      ]
     },
     "execution_count": 72,
     "metadata": {},
     "output_type": "execute_result"
    }
   ],
   "source": [
    "proportion_control_converted_value, proportion_test_converted_value"
   ]
  },
  {
   "cell_type": "markdown",
   "metadata": {},
   "source": [
    "### 4. How much did the experiment cost?  \n",
    "This is just the difference between the mean revenue per visit times the number of visits in the control\n",
    "group"
   ]
  },
  {
   "cell_type": "code",
   "execution_count": 73,
   "metadata": {},
   "outputs": [
    {
     "data": {
      "text/plain": [
       "24159.15488881603"
      ]
     },
     "execution_count": 73,
     "metadata": {},
     "output_type": "execute_result"
    }
   ],
   "source": [
    "len(control)*(proportion_test_converted_value-proportion_control_converted_value)"
   ]
  },
  {
   "cell_type": "markdown",
   "metadata": {},
   "source": [
    "### 5. Is this difference in proportions statistically significant? "
   ]
  },
  {
   "cell_type": "code",
   "execution_count": 75,
   "metadata": {},
   "outputs": [
    {
     "name": "stdout",
     "output_type": "stream",
     "text": [
      "3195 157847 1413 88457\n"
     ]
    }
   ],
   "source": [
    "s1 = len(control[control['converted']==1]) #number of conversions in control\n",
    "n1 = len(control['converted']) #total population in control\n",
    "\n",
    "s2 = len(test[test['converted']==1]) #number of conversions in test\n",
    "n2 = len(test['converted']) #total population in test\n",
    "\n",
    "print(s1,n1,s2,n2)\n",
    "\n",
    "#Do a z-test to determine the chance that the difference observed between the two populations was \n",
    "#done so by chance\n",
    "\n",
    "zscore, pval = proportions_ztest([s1, s2], [n1, n2], alternative='two-sided')"
   ]
  },
  {
   "cell_type": "code",
   "execution_count": 76,
   "metadata": {},
   "outputs": [
    {
     "data": {
      "text/plain": [
       "(7.498558595474347, 6.452340828997087e-14)"
      ]
     },
     "execution_count": 76,
     "metadata": {},
     "output_type": "execute_result"
    }
   ],
   "source": [
    "zscore,pval"
   ]
  },
  {
   "cell_type": "markdown",
   "metadata": {},
   "source": [
    "### How long should we have run the test for?\n",
    "\n",
    "This low p value indicates that the results are statistically significant ... then the question becomes, how long should we have run the trial for?\n",
    "\n",
    "To answer this question, we can divide the dataset into blocks of time, find the total proportions of converted and non-converted in each chunck and then run a z-test. Once the results become significant, we know that we can end the test"
   ]
  },
  {
   "cell_type": "code",
   "execution_count": 77,
   "metadata": {},
   "outputs": [],
   "source": [
    "merged_table.sort_values(by='timestamp_mod',inplace=True)"
   ]
  },
  {
   "cell_type": "code",
   "execution_count": 91,
   "metadata": {},
   "outputs": [],
   "source": [
    "#Define a function that allows us to extract each unique week\n",
    "\n",
    "def extract_week(timestamp):\n",
    "    \n",
    "    return '%s-%s' %(timestamp.year,timestamp.week)\n",
    "\n",
    "def extract_day(timestamp):\n",
    "    \n",
    "    return '%s-%s-%s' %(timestamp.year,timestamp.week,timestamp.day)\n"
   ]
  },
  {
   "cell_type": "code",
   "execution_count": 80,
   "metadata": {},
   "outputs": [],
   "source": [
    "merged_table['YW'] = merged_table['timestamp_mod'].apply(extract_week)"
   ]
  },
  {
   "cell_type": "code",
   "execution_count": 81,
   "metadata": {},
   "outputs": [
    {
     "data": {
      "text/html": [
       "<div>\n",
       "<style scoped>\n",
       "    .dataframe tbody tr th:only-of-type {\n",
       "        vertical-align: middle;\n",
       "    }\n",
       "\n",
       "    .dataframe tbody tr th {\n",
       "        vertical-align: top;\n",
       "    }\n",
       "\n",
       "    .dataframe thead th {\n",
       "        text-align: right;\n",
       "    }\n",
       "</style>\n",
       "<table border=\"1\" class=\"dataframe\">\n",
       "  <thead>\n",
       "    <tr style=\"text-align: right;\">\n",
       "      <th></th>\n",
       "      <th>Unnamed: 0</th>\n",
       "      <th>user_id</th>\n",
       "      <th>timestamp</th>\n",
       "      <th>source</th>\n",
       "      <th>device</th>\n",
       "      <th>operative_system</th>\n",
       "      <th>test</th>\n",
       "      <th>price</th>\n",
       "      <th>converted</th>\n",
       "      <th>city</th>\n",
       "      <th>country</th>\n",
       "      <th>lat</th>\n",
       "      <th>long</th>\n",
       "      <th>timestamp_mod</th>\n",
       "      <th>YW</th>\n",
       "    </tr>\n",
       "  </thead>\n",
       "  <tbody>\n",
       "    <tr>\n",
       "      <th>166052</th>\n",
       "      <td>166052</td>\n",
       "      <td>503836</td>\n",
       "      <td>2015-03-02 00:04:12</td>\n",
       "      <td>ads-google</td>\n",
       "      <td>web</td>\n",
       "      <td>windows</td>\n",
       "      <td>1</td>\n",
       "      <td>59.0</td>\n",
       "      <td>0</td>\n",
       "      <td>Plymouth</td>\n",
       "      <td>USA</td>\n",
       "      <td>45.02</td>\n",
       "      <td>-93.46</td>\n",
       "      <td>2015-03-02 00:04:12</td>\n",
       "      <td>2015-10</td>\n",
       "    </tr>\n",
       "    <tr>\n",
       "      <th>20240</th>\n",
       "      <td>20240</td>\n",
       "      <td>583796</td>\n",
       "      <td>2015-03-02 00:12:40</td>\n",
       "      <td>ads_facebook</td>\n",
       "      <td>web</td>\n",
       "      <td>windows</td>\n",
       "      <td>0</td>\n",
       "      <td>39.0</td>\n",
       "      <td>0</td>\n",
       "      <td>Jacksonville</td>\n",
       "      <td>USA</td>\n",
       "      <td>30.33</td>\n",
       "      <td>-81.66</td>\n",
       "      <td>2015-03-02 00:12:40</td>\n",
       "      <td>2015-10</td>\n",
       "    </tr>\n",
       "    <tr>\n",
       "      <th>278620</th>\n",
       "      <td>278620</td>\n",
       "      <td>632922</td>\n",
       "      <td>2015-03-02 00:16:25</td>\n",
       "      <td>ads-google</td>\n",
       "      <td>web</td>\n",
       "      <td>windows</td>\n",
       "      <td>0</td>\n",
       "      <td>39.0</td>\n",
       "      <td>0</td>\n",
       "      <td>Virginia Beach</td>\n",
       "      <td>USA</td>\n",
       "      <td>36.74</td>\n",
       "      <td>-76.04</td>\n",
       "      <td>2015-03-02 00:16:25</td>\n",
       "      <td>2015-10</td>\n",
       "    </tr>\n",
       "    <tr>\n",
       "      <th>206916</th>\n",
       "      <td>206916</td>\n",
       "      <td>813542</td>\n",
       "      <td>2015-03-02 00:18:46</td>\n",
       "      <td>direct_traffic</td>\n",
       "      <td>web</td>\n",
       "      <td>mac</td>\n",
       "      <td>0</td>\n",
       "      <td>39.0</td>\n",
       "      <td>0</td>\n",
       "      <td>North Port</td>\n",
       "      <td>USA</td>\n",
       "      <td>27.05</td>\n",
       "      <td>-82.19</td>\n",
       "      <td>2015-03-02 00:18:46</td>\n",
       "      <td>2015-10</td>\n",
       "    </tr>\n",
       "    <tr>\n",
       "      <th>271250</th>\n",
       "      <td>271250</td>\n",
       "      <td>866803</td>\n",
       "      <td>2015-03-02 00:18:46</td>\n",
       "      <td>direct_traffic</td>\n",
       "      <td>web</td>\n",
       "      <td>mac</td>\n",
       "      <td>0</td>\n",
       "      <td>39.0</td>\n",
       "      <td>0</td>\n",
       "      <td>North Port</td>\n",
       "      <td>USA</td>\n",
       "      <td>27.05</td>\n",
       "      <td>-82.19</td>\n",
       "      <td>2015-03-02 00:18:46</td>\n",
       "      <td>2015-10</td>\n",
       "    </tr>\n",
       "  </tbody>\n",
       "</table>\n",
       "</div>"
      ],
      "text/plain": [
       "        Unnamed: 0  user_id            timestamp          source device  \\\n",
       "166052      166052   503836  2015-03-02 00:04:12      ads-google    web   \n",
       "20240        20240   583796  2015-03-02 00:12:40    ads_facebook    web   \n",
       "278620      278620   632922  2015-03-02 00:16:25      ads-google    web   \n",
       "206916      206916   813542  2015-03-02 00:18:46  direct_traffic    web   \n",
       "271250      271250   866803  2015-03-02 00:18:46  direct_traffic    web   \n",
       "\n",
       "       operative_system  test  price  converted            city country  \\\n",
       "166052          windows     1   59.0          0        Plymouth     USA   \n",
       "20240           windows     0   39.0          0    Jacksonville     USA   \n",
       "278620          windows     0   39.0          0  Virginia Beach     USA   \n",
       "206916              mac     0   39.0          0      North Port     USA   \n",
       "271250              mac     0   39.0          0      North Port     USA   \n",
       "\n",
       "          lat   long       timestamp_mod       YW  \n",
       "166052  45.02 -93.46 2015-03-02 00:04:12  2015-10  \n",
       "20240   30.33 -81.66 2015-03-02 00:12:40  2015-10  \n",
       "278620  36.74 -76.04 2015-03-02 00:16:25  2015-10  \n",
       "206916  27.05 -82.19 2015-03-02 00:18:46  2015-10  \n",
       "271250  27.05 -82.19 2015-03-02 00:18:46  2015-10  "
      ]
     },
     "execution_count": 81,
     "metadata": {},
     "output_type": "execute_result"
    }
   ],
   "source": [
    "merged_table.head()"
   ]
  },
  {
   "cell_type": "markdown",
   "metadata": {},
   "source": [
    "### Plot the number of test and control users each week. This should hopefully be farily consistent"
   ]
  },
  {
   "cell_type": "code",
   "execution_count": 82,
   "metadata": {},
   "outputs": [],
   "source": [
    "all_users_per_week = merged_table[['test','YW']].groupby('YW').count()"
   ]
  },
  {
   "cell_type": "code",
   "execution_count": 83,
   "metadata": {},
   "outputs": [],
   "source": [
    "test_users_per_week = merged_table[['test','YW']].groupby('YW').sum()"
   ]
  },
  {
   "cell_type": "code",
   "execution_count": 84,
   "metadata": {},
   "outputs": [],
   "source": [
    "control_users_per_week = merged_table[merged_table['test']==0][['test','YW']].groupby('YW').count()"
   ]
  },
  {
   "cell_type": "code",
   "execution_count": 85,
   "metadata": {},
   "outputs": [],
   "source": [
    "df = pd.DataFrame({'all_users':all_users_per_week['test'],'test_users':test_users_per_week['test'],\n",
    "                  'control_users':control_users_per_week['test']})"
   ]
  },
  {
   "cell_type": "code",
   "execution_count": 86,
   "metadata": {},
   "outputs": [
    {
     "data": {
      "image/png": "[encoded data removed]",
      "text/plain": [
       "<Figure size 720x360 with 1 Axes>"
      ]
     },
     "metadata": {
      "needs_background": "light"
     },
     "output_type": "display_data"
    }
   ],
   "source": [
    "fig = plt.figure(figsize=(10,5))\n",
    "ax1 = fig.add_subplot(111)\n",
    "df.plot.bar(ax=ax1)\n",
    "plt.ylabel('Number of first time users')\n",
    "plt.savefig('Weekly_numbers.png',dpi=200)"
   ]
  },
  {
   "cell_type": "markdown",
   "metadata": {},
   "source": [
    "### Now we want to assess the length of time for which we could have run the test \n",
    "To do this, we find the cumulative number of users in the test and control dataframes over each week.\n",
    "At each stage, we determine the number of conversions and test for significance"
   ]
  },
  {
   "cell_type": "code",
   "execution_count": 88,
   "metadata": {},
   "outputs": [
    {
     "name": "stdout",
     "output_type": "stream",
     "text": [
      "1.9230840496194885 0.05446949516428314\n",
      "1.5716002854406275 0.11604328023899829\n",
      "2.0998017062260885 0.03574628810434961\n",
      "2.436317454394807 0.014837656432151356\n",
      "3.4620154750313685 0.0005361463266295379\n",
      "4.4644127275038965 8.028866583835457e-06\n",
      "5.337589073409841 9.419063309683673e-08\n",
      "5.772365428468634 7.816636598396925e-09\n",
      "6.662086879428318 2.6996634858605265e-11\n",
      "6.990338059507853 2.7422466103191815e-12\n",
      "7.3240353851284095 2.406231945707193e-13\n",
      "7.5608294693972855 4.005070435262394e-14\n",
      "7.498558595474347 6.452340828997087e-14\n"
     ]
    }
   ],
   "source": [
    "def compare_week(timestamp,yr,wk):\n",
    "    \n",
    "    if (timestamp.year <= yr) and (timestamp.week <= wk):\n",
    "        return 1\n",
    "    else:\n",
    "        return 0\n",
    "\n",
    "## Cumulative numbers in test and control groups per week\n",
    "weeks = list(pd.unique(merged_table['YW']))\n",
    "\n",
    "total_weeks = []\n",
    "total_converted_control = []\n",
    "total_converted_test = []\n",
    "total_control = []\n",
    "total_test = []\n",
    "pvalues = []\n",
    "\n",
    "slicetable = merged_table.copy()\n",
    "\n",
    "for week in weeks:\n",
    "    \n",
    "    timeparts = week.split('-')\n",
    "    year = int(timeparts[0])\n",
    "    week = int(timeparts[1])\n",
    "    \n",
    "    slicetable['compare_week'] = slicetable['timestamp_mod'].apply(compare_week,args=(year,week))\n",
    "    \n",
    "    #Get all the data within the period of interest\n",
    "    inweek = slicetable[slicetable['compare_week']==1]\n",
    "    \n",
    "    #Split into contol and test dataframes\n",
    "    control = inweek[inweek['test']==0]\n",
    "    test = inweek[inweek['test']==1]\n",
    "    \n",
    "    #Get all the test users in that period\n",
    "    test_users_in_period = len(test)\n",
    "    #Get all the contol users in that period\n",
    "    control_users_in_period = len(control)\n",
    "    #Get the total number of users in that period\n",
    "    all_users_in_period = len(inweek)\n",
    "    \n",
    "    #Get the proportions who converted in each group\n",
    "    \n",
    "    s1 = len(control[control['converted']==1])\n",
    "    n1 = len(control['converted'])\n",
    "    \n",
    "    s2 = len(test[test['converted']==1])\n",
    "    n2 = len(test['converted'])\n",
    "    \n",
    "    zscore, pval = proportions_ztest([s1, s2], [n1, n2], alternative='two-sided')\n",
    "    \n",
    "    total_weeks.append(all_users_in_period)\n",
    "    total_converted_control.append(s1/n1)\n",
    "    total_converted_test.append(s2/n2)\n",
    "    total_control.append(n1)\n",
    "    total_test.append(n2)\n",
    "    pvalues.append(pval)\n",
    "    \n",
    "    #print(test_users_in_period,control_users_in_period,all_users_in_period,\n",
    "    #      all_users_in_period-(test_users_in_period+control_users_in_period))\n",
    "    print(zscore,pval)\n",
    "    \n",
    "    "
   ]
  },
  {
   "cell_type": "code",
   "execution_count": 89,
   "metadata": {},
   "outputs": [
    {
     "data": {
      "image/png": "[encoded data removed]",
      "text/plain": [
       "<Figure size 432x288 with 1 Axes>"
      ]
     },
     "metadata": {
      "needs_background": "light"
     },
     "output_type": "display_data"
    }
   ],
   "source": [
    "plt.plot(total_converted_control,label='control')\n",
    "plt.plot(total_converted_test,label='test')\n",
    "plt.legend(loc='best')\n",
    "plt.xlabel('Week of test')\n",
    "plt.ylabel('Conversion rate')\n",
    "plt.title('Cumulative customer conversion rate')\n",
    "plt.savefig(\"Cumulative_conversion_rate.png\",dpi=200)"
   ]
  },
  {
   "cell_type": "code",
   "execution_count": 90,
   "metadata": {},
   "outputs": [
    {
     "data": {
      "image/png": "[encoded data removed]",
      "text/plain": [
       "<Figure size 432x288 with 1 Axes>"
      ]
     },
     "metadata": {
      "needs_background": "light"
     },
     "output_type": "display_data"
    }
   ],
   "source": [
    "plt.semilogy(pvalues)\n",
    "plt.axhline(0.01,color='blue',linestyle='--')\n",
    "plt.xlabel('Week of test')\n",
    "plt.ylabel('P value')\n",
    "plt.savefig('Cumulative_p_value.png',dpi=200)"
   ]
  },
  {
   "cell_type": "markdown",
   "metadata": {},
   "source": [
    "It looks like the cumulative conversion rate is fairly constant over time and that within about 4 weeks of running the experiment the p-value has dropped below 0.01, which suggests that the results become significant after this point"
   ]
  },
  {
   "cell_type": "markdown",
   "metadata": {},
   "source": [
    "### How could the experiment be improved?\n",
    "\n",
    "- Determine the cycicity in customer conversions and run for a maximum of two cycles  \n",
    "- Do a more focussed test where different prices are shown to people on different platforms and who arrive from different sources: It might be possible that users who are referred by friends are willing to pay more, for example\n",
    "- Ensure that the distribution of user locations in the control and test populations are equal"
   ]
  },
  {
   "cell_type": "code",
   "execution_count": 97,
   "metadata": {},
   "outputs": [],
   "source": [
    "from scipy import signal"
   ]
  },
  {
   "cell_type": "code",
   "execution_count": 92,
   "metadata": {},
   "outputs": [],
   "source": [
    "merged_table['YWD'] = merged_table['timestamp_mod'].apply(extract_day)"
   ]
  },
  {
   "cell_type": "code",
   "execution_count": 93,
   "metadata": {},
   "outputs": [],
   "source": [
    "all_conversions_per_day = merged_table[['converted','YWD']].groupby('YWD').count()"
   ]
  },
  {
   "cell_type": "code",
   "execution_count": 98,
   "metadata": {},
   "outputs": [],
   "source": [
    "conversions = all_conversions_per_day['converted'].values"
   ]
  },
  {
   "cell_type": "code",
   "execution_count": 99,
   "metadata": {},
   "outputs": [
    {
     "data": {
      "text/plain": [
       "[<matplotlib.lines.Line2D at 0x1a264dacc0>]"
      ]
     },
     "execution_count": 99,
     "metadata": {},
     "output_type": "execute_result"
    },
    {
     "data": {
      "image/png": "[encoded data removed]",
      "text/plain": [
       "<Figure size 432x288 with 1 Axes>"
      ]
     },
     "metadata": {
      "needs_background": "light"
     },
     "output_type": "display_data"
    }
   ],
   "source": [
    "plt.plot(conversions)"
   ]
  },
  {
   "cell_type": "code",
   "execution_count": 103,
   "metadata": {},
   "outputs": [
    {
     "data": {
      "text/plain": [
       "array([ 0,  1,  2,  3,  4,  5,  6,  7,  8,  9, 10, 11, 12, 13, 14, 15, 16,\n",
       "       17, 18, 19, 20, 21, 22, 23, 24, 25, 26, 27, 28, 29, 30, 31, 32, 33,\n",
       "       34, 35, 36, 37, 38, 39, 40, 41, 42, 43, 44, 45, 46, 47, 48, 49, 50,\n",
       "       51, 52, 53, 54, 55, 56, 57, 58, 59, 60, 61, 62, 63, 64, 65, 66, 67,\n",
       "       68, 69, 70, 71, 72, 73, 74, 75, 76, 77, 78, 79, 80, 81, 82, 83, 84,\n",
       "       85, 86, 87, 88, 89, 90])"
      ]
     },
     "execution_count": 103,
     "metadata": {},
     "output_type": "execute_result"
    }
   ],
   "source": [
    "np.arange(len(conversions))"
   ]
  },
  {
   "cell_type": "code",
   "execution_count": 119,
   "metadata": {},
   "outputs": [],
   "source": [
    "fs = 1/(3600*24)\n",
    "f, Pxx_den = signal.welch(conversions,fs,scaling='spectrum',nperseg=30)"
   ]
  },
  {
   "cell_type": "code",
   "execution_count": 132,
   "metadata": {},
   "outputs": [
    {
     "data": {
      "text/plain": [
       "Text(0, 0.5, 'Signal power')"
      ]
     },
     "execution_count": 132,
     "metadata": {},
     "output_type": "execute_result"
    },
    {
     "data": {
      "image/png": "[encoded data removed]",
      "text/plain": [
       "<Figure size 432x288 with 1 Axes>"
      ]
     },
     "metadata": {
      "needs_background": "light"
     },
     "output_type": "display_data"
    }
   ],
   "source": [
    "plt.semilogy(f,Pxx_den)\n",
    "plt.xlabel('Frequency')\n",
    "plt.ylabel('Signal power')"
   ]
  },
  {
   "cell_type": "code",
   "execution_count": 128,
   "metadata": {},
   "outputs": [
    {
     "data": {
      "text/plain": [
       "7.5"
      ]
     },
     "execution_count": 128,
     "metadata": {},
     "output_type": "execute_result"
    }
   ],
   "source": [
    "(1/f[np.argmax(Pxx_den)])/(3600*24)"
   ]
  },
  {
   "cell_type": "markdown",
   "metadata": {},
   "source": [
    "It looks like the cycle length is about one week. This means that 2 weeks is the minumum length of time for which we can run the experiment. "
   ]
  },
  {
   "cell_type": "code",
   "execution_count": null,
   "metadata": {},
   "outputs": [],
   "source": []
  }
 ],
 "metadata": {
  "kernelspec": {
   "display_name": "Python 3",
   "language": "python",
   "name": "python3"
  },
  "language_info": {
   "codemirror_mode": {
    "name": "ipython",
    "version": 3
   },
   "file_extension": ".py",
   "mimetype": "text/x-python",
   "name": "python",
   "nbconvert_exporter": "python",
   "pygments_lexer": "ipython3",
   "version": "3.6.7"
  }
 },
 "nbformat": 4,
 "nbformat_minor": 2
}
