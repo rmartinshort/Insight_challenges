{
 "cells": [
  {
   "cell_type": "markdown",
   "metadata": {},
   "source": [
    "## Breast cancer detection data challenge\n",
    "\n",
    "### Important questions \n",
    "\n",
    "- What features of a cell are the largest drivers of malignancy?\n",
    "\n",
    "- How would a physician use your product?\n",
    "\n",
    "- There is a non-zero cost in time and money to collect each feature about a given cell. How would you  go about determining the most cost-effective method of detecting malignancy?\n"
   ]
  },
  {
   "cell_type": "code",
   "execution_count": 1,
   "metadata": {},
   "outputs": [],
   "source": [
    "import pandas as pd\n",
    "import numpy as np\n",
    "import seaborn as sns\n",
    "import matplotlib.pyplot as plt\n",
    "import tools as challengetools\n",
    "%matplotlib inline"
   ]
  },
  {
   "cell_type": "code",
   "execution_count": 2,
   "metadata": {},
   "outputs": [],
   "source": [
    "cancer_df = pd.read_csv('breast-cancer-wisconsin.txt',index_col=0)"
   ]
  },
  {
   "cell_type": "markdown",
   "metadata": {},
   "source": [
    "#### Check proportion of nans"
   ]
  },
  {
   "cell_type": "code",
   "execution_count": 3,
   "metadata": {},
   "outputs": [
    {
     "data": {
      "text/plain": [
       "ID                             0.0000\n",
       "Clump Thickness                0.0000\n",
       "Uniformity of Cell Size        0.1766\n",
       "Uniformity of Cell Shape       0.1766\n",
       "Marginal Adhesion              0.1766\n",
       "Single Epithelial Cell Size    0.1766\n",
       "Bare Nuclei                    0.1766\n",
       "Bland Chromatin                0.1766\n",
       "Normal Nucleoli                0.1766\n",
       "Mitoses                        0.1766\n",
       "Class                          0.1766\n",
       "dtype: float64"
      ]
     },
     "execution_count": 3,
     "metadata": {},
     "output_type": "execute_result"
    }
   ],
   "source": [
    "100*cancer_df.isna().sum()/len(cancer_df)"
   ]
  },
  {
   "cell_type": "markdown",
   "metadata": {},
   "source": [
    "Small number of NaNs, so we can safely just drop them"
   ]
  },
  {
   "cell_type": "code",
   "execution_count": 4,
   "metadata": {},
   "outputs": [],
   "source": [
    "cancer_df.dropna(inplace=True)"
   ]
  },
  {
   "cell_type": "code",
   "execution_count": 5,
   "metadata": {},
   "outputs": [
    {
     "data": {
      "text/plain": [
       "ID                              int64\n",
       "Clump Thickness                 int64\n",
       "Uniformity of Cell Size        object\n",
       "Uniformity of Cell Shape       object\n",
       "Marginal Adhesion              object\n",
       "Single Epithelial Cell Size    object\n",
       "Bare Nuclei                    object\n",
       "Bland Chromatin                object\n",
       "Normal Nucleoli                object\n",
       "Mitoses                        object\n",
       "Class                          object\n",
       "dtype: object"
      ]
     },
     "execution_count": 5,
     "metadata": {},
     "output_type": "execute_result"
    }
   ],
   "source": [
    "cancer_df.dtypes"
   ]
  },
  {
   "cell_type": "markdown",
   "metadata": {},
   "source": [
    "### Lets look at the cancer classification column. There should only by two possible entries here: 4 for malignant and 2 for benign"
   ]
  },
  {
   "cell_type": "code",
   "execution_count": 6,
   "metadata": {},
   "outputs": [
    {
     "data": {
      "text/plain": [
       "array(['4', '2', 'No idea', '40', '#', '?', '20'], dtype=object)"
      ]
     },
     "execution_count": 6,
     "metadata": {},
     "output_type": "execute_result"
    }
   ],
   "source": [
    "cancer_df['Class'].unique()"
   ]
  },
  {
   "cell_type": "code",
   "execution_count": 7,
   "metadata": {},
   "outputs": [
    {
     "data": {
      "text/html": [
       "<div>\n",
       "<style scoped>\n",
       "    .dataframe tbody tr th:only-of-type {\n",
       "        vertical-align: middle;\n",
       "    }\n",
       "\n",
       "    .dataframe tbody tr th {\n",
       "        vertical-align: top;\n",
       "    }\n",
       "\n",
       "    .dataframe thead th {\n",
       "        text-align: right;\n",
       "    }\n",
       "</style>\n",
       "<table border=\"1\" class=\"dataframe\">\n",
       "  <thead>\n",
       "    <tr style=\"text-align: right;\">\n",
       "      <th></th>\n",
       "      <th>ID</th>\n",
       "    </tr>\n",
       "    <tr>\n",
       "      <th>Class</th>\n",
       "      <th></th>\n",
       "    </tr>\n",
       "  </thead>\n",
       "  <tbody>\n",
       "    <tr>\n",
       "      <th>#</th>\n",
       "      <td>11</td>\n",
       "    </tr>\n",
       "    <tr>\n",
       "      <th>2</th>\n",
       "      <td>456</td>\n",
       "    </tr>\n",
       "    <tr>\n",
       "      <th>20</th>\n",
       "      <td>5</td>\n",
       "    </tr>\n",
       "    <tr>\n",
       "      <th>4</th>\n",
       "      <td>15164</td>\n",
       "    </tr>\n",
       "    <tr>\n",
       "      <th>40</th>\n",
       "      <td>151</td>\n",
       "    </tr>\n",
       "    <tr>\n",
       "      <th>?</th>\n",
       "      <td>23</td>\n",
       "    </tr>\n",
       "    <tr>\n",
       "      <th>No idea</th>\n",
       "      <td>17</td>\n",
       "    </tr>\n",
       "  </tbody>\n",
       "</table>\n",
       "</div>"
      ],
      "text/plain": [
       "            ID\n",
       "Class         \n",
       "#           11\n",
       "2          456\n",
       "20           5\n",
       "4        15164\n",
       "40         151\n",
       "?           23\n",
       "No idea     17"
      ]
     },
     "execution_count": 7,
     "metadata": {},
     "output_type": "execute_result"
    }
   ],
   "source": [
    "cancer_df[['Class','ID']].groupby('Class').count()"
   ]
  },
  {
   "cell_type": "markdown",
   "metadata": {},
   "source": [
    "#### Since we're only interested in whether a cancer is in class 4 or 2, we can remove all instances of the other classes"
   ]
  },
  {
   "cell_type": "code",
   "execution_count": 8,
   "metadata": {},
   "outputs": [],
   "source": [
    "def fill_class_na(classval):\n",
    "    \n",
    "    '''Return nan if the class is not malignant or benign'''\n",
    "    \n",
    "    keepclasses = ['2','4']\n",
    "    \n",
    "    if classval not in keepclasses:\n",
    "        return np.nan\n",
    "    else:\n",
    "        if classval == '2':\n",
    "            return 1\n",
    "        else:\n",
    "            return 0 \n",
    "    "
   ]
  },
  {
   "cell_type": "code",
   "execution_count": 9,
   "metadata": {},
   "outputs": [
    {
     "name": "stdout",
     "output_type": "stream",
     "text": [
      "CPU times: user 15.2 ms, sys: 1.75 ms, total: 16.9 ms\n",
      "Wall time: 16.5 ms\n"
     ]
    }
   ],
   "source": [
    "%%time\n",
    "cancer_df['Class'] = cancer_df['Class'].apply(fill_class_na)"
   ]
  },
  {
   "cell_type": "markdown",
   "metadata": {},
   "source": [
    "#### Lets see how many nans this produced"
   ]
  },
  {
   "cell_type": "code",
   "execution_count": 10,
   "metadata": {},
   "outputs": [
    {
     "data": {
      "text/plain": [
       "ID                             0.000000\n",
       "Clump Thickness                0.000000\n",
       "Uniformity of Cell Size        0.000000\n",
       "Uniformity of Cell Shape       0.000000\n",
       "Marginal Adhesion              0.000000\n",
       "Single Epithelial Cell Size    0.000000\n",
       "Bare Nuclei                    0.000000\n",
       "Bland Chromatin                0.000000\n",
       "Normal Nucleoli                0.000000\n",
       "Mitoses                        0.000000\n",
       "Class                          1.307892\n",
       "dtype: float64"
      ]
     },
     "execution_count": 10,
     "metadata": {},
     "output_type": "execute_result"
    }
   ],
   "source": [
    "100*cancer_df.isna().sum()/len(cancer_df)"
   ]
  },
  {
   "cell_type": "code",
   "execution_count": 11,
   "metadata": {},
   "outputs": [],
   "source": [
    "cancer_df.dropna(inplace=True)"
   ]
  },
  {
   "cell_type": "markdown",
   "metadata": {},
   "source": [
    "## Visualization and thoughts about modelling approach"
   ]
  },
  {
   "cell_type": "code",
   "execution_count": 12,
   "metadata": {},
   "outputs": [
    {
     "data": {
      "image/png": "[encoded data removed]",
      "text/plain": [
       "<Figure size 432x288 with 1 Axes>"
      ]
     },
     "metadata": {
      "needs_background": "light"
     },
     "output_type": "display_data"
    }
   ],
   "source": [
    "sns.countplot(x='Class',data=cancer_df)\n",
    "plt.savefig('Breast_cancer_proportions.png',dpi=300)"
   ]
  },
  {
   "cell_type": "markdown",
   "metadata": {},
   "source": [
    "#### This is a very imbalanced dataset!"
   ]
  },
  {
   "cell_type": "code",
   "execution_count": 13,
   "metadata": {},
   "outputs": [
    {
     "data": {
      "text/html": [
       "<div>\n",
       "<style scoped>\n",
       "    .dataframe tbody tr th:only-of-type {\n",
       "        vertical-align: middle;\n",
       "    }\n",
       "\n",
       "    .dataframe tbody tr th {\n",
       "        vertical-align: top;\n",
       "    }\n",
       "\n",
       "    .dataframe thead th {\n",
       "        text-align: right;\n",
       "    }\n",
       "</style>\n",
       "<table border=\"1\" class=\"dataframe\">\n",
       "  <thead>\n",
       "    <tr style=\"text-align: right;\">\n",
       "      <th></th>\n",
       "      <th>ID</th>\n",
       "      <th>Clump Thickness</th>\n",
       "      <th>Uniformity of Cell Size</th>\n",
       "      <th>Uniformity of Cell Shape</th>\n",
       "      <th>Marginal Adhesion</th>\n",
       "      <th>Single Epithelial Cell Size</th>\n",
       "      <th>Bare Nuclei</th>\n",
       "      <th>Bland Chromatin</th>\n",
       "      <th>Normal Nucleoli</th>\n",
       "      <th>Mitoses</th>\n",
       "      <th>Class</th>\n",
       "    </tr>\n",
       "    <tr>\n",
       "      <th>Index</th>\n",
       "      <th></th>\n",
       "      <th></th>\n",
       "      <th></th>\n",
       "      <th></th>\n",
       "      <th></th>\n",
       "      <th></th>\n",
       "      <th></th>\n",
       "      <th></th>\n",
       "      <th></th>\n",
       "      <th></th>\n",
       "      <th></th>\n",
       "    </tr>\n",
       "  </thead>\n",
       "  <tbody>\n",
       "    <tr>\n",
       "      <th>0</th>\n",
       "      <td>1241035</td>\n",
       "      <td>7</td>\n",
       "      <td>8</td>\n",
       "      <td>3</td>\n",
       "      <td>7</td>\n",
       "      <td>4</td>\n",
       "      <td>5</td>\n",
       "      <td>7</td>\n",
       "      <td>8</td>\n",
       "      <td>2</td>\n",
       "      <td>0.0</td>\n",
       "    </tr>\n",
       "    <tr>\n",
       "      <th>1</th>\n",
       "      <td>1107684</td>\n",
       "      <td>6</td>\n",
       "      <td>10</td>\n",
       "      <td>5</td>\n",
       "      <td>5</td>\n",
       "      <td>4</td>\n",
       "      <td>10</td>\n",
       "      <td>6</td>\n",
       "      <td>10</td>\n",
       "      <td>1</td>\n",
       "      <td>0.0</td>\n",
       "    </tr>\n",
       "    <tr>\n",
       "      <th>2</th>\n",
       "      <td>691628</td>\n",
       "      <td>8</td>\n",
       "      <td>6</td>\n",
       "      <td>4</td>\n",
       "      <td>10</td>\n",
       "      <td>10</td>\n",
       "      <td>1</td>\n",
       "      <td>3</td>\n",
       "      <td>5</td>\n",
       "      <td>1</td>\n",
       "      <td>0.0</td>\n",
       "    </tr>\n",
       "    <tr>\n",
       "      <th>3</th>\n",
       "      <td>1226612</td>\n",
       "      <td>7</td>\n",
       "      <td>5</td>\n",
       "      <td>6</td>\n",
       "      <td>3</td>\n",
       "      <td>3</td>\n",
       "      <td>8</td>\n",
       "      <td>7</td>\n",
       "      <td>4</td>\n",
       "      <td>1</td>\n",
       "      <td>0.0</td>\n",
       "    </tr>\n",
       "    <tr>\n",
       "      <th>4</th>\n",
       "      <td>1142706</td>\n",
       "      <td>5</td>\n",
       "      <td>10</td>\n",
       "      <td>10</td>\n",
       "      <td>10</td>\n",
       "      <td>6</td>\n",
       "      <td>10</td>\n",
       "      <td>6</td>\n",
       "      <td>5</td>\n",
       "      <td>2</td>\n",
       "      <td>0.0</td>\n",
       "    </tr>\n",
       "  </tbody>\n",
       "</table>\n",
       "</div>"
      ],
      "text/plain": [
       "            ID  Clump Thickness Uniformity of Cell Size  \\\n",
       "Index                                                     \n",
       "0      1241035                7                       8   \n",
       "1      1107684                6                      10   \n",
       "2       691628                8                       6   \n",
       "3      1226612                7                       5   \n",
       "4      1142706                5                      10   \n",
       "\n",
       "      Uniformity of Cell Shape Marginal Adhesion Single Epithelial Cell Size  \\\n",
       "Index                                                                          \n",
       "0                            3                 7                           4   \n",
       "1                            5                 5                           4   \n",
       "2                            4                10                          10   \n",
       "3                            6                 3                           3   \n",
       "4                           10                10                           6   \n",
       "\n",
       "      Bare Nuclei Bland Chromatin Normal Nucleoli Mitoses  Class  \n",
       "Index                                                             \n",
       "0               5               7               8       2    0.0  \n",
       "1              10               6              10       1    0.0  \n",
       "2               1               3               5       1    0.0  \n",
       "3               8               7               4       1    0.0  \n",
       "4              10               6               5       2    0.0  "
      ]
     },
     "execution_count": 13,
     "metadata": {},
     "output_type": "execute_result"
    }
   ],
   "source": [
    "cancer_df.head()"
   ]
  },
  {
   "cell_type": "markdown",
   "metadata": {},
   "source": [
    "#### Convert all the dtypes to numeric"
   ]
  },
  {
   "cell_type": "code",
   "execution_count": 14,
   "metadata": {},
   "outputs": [],
   "source": [
    "cancer_df = cancer_df.apply(pd.to_numeric,errors='coerce')"
   ]
  },
  {
   "cell_type": "code",
   "execution_count": 15,
   "metadata": {},
   "outputs": [
    {
     "data": {
      "text/plain": [
       "15620"
      ]
     },
     "execution_count": 15,
     "metadata": {},
     "output_type": "execute_result"
    }
   ],
   "source": [
    "len(cancer_df)"
   ]
  },
  {
   "cell_type": "markdown",
   "metadata": {},
   "source": [
    "#### This may have made some more nans, so lets see how many"
   ]
  },
  {
   "cell_type": "code",
   "execution_count": 16,
   "metadata": {},
   "outputs": [
    {
     "data": {
      "text/plain": [
       "ID                             0.000000\n",
       "Clump Thickness                0.000000\n",
       "Uniformity of Cell Size        0.000000\n",
       "Uniformity of Cell Shape       0.000000\n",
       "Marginal Adhesion              0.000000\n",
       "Single Epithelial Cell Size    0.000000\n",
       "Bare Nuclei                    0.102433\n",
       "Bland Chromatin                0.000000\n",
       "Normal Nucleoli                0.000000\n",
       "Mitoses                        0.000000\n",
       "Class                          0.000000\n",
       "dtype: float64"
      ]
     },
     "execution_count": 16,
     "metadata": {},
     "output_type": "execute_result"
    }
   ],
   "source": [
    "100*cancer_df.isna().sum()/len(cancer_df)"
   ]
  },
  {
   "cell_type": "code",
   "execution_count": 17,
   "metadata": {},
   "outputs": [],
   "source": [
    "cancer_df.dropna(inplace=True)"
   ]
  },
  {
   "cell_type": "markdown",
   "metadata": {},
   "source": [
    "#### Plot the distorbution of data with hue=Class"
   ]
  },
  {
   "cell_type": "code",
   "execution_count": 18,
   "metadata": {},
   "outputs": [],
   "source": [
    "#Convert to a format that easy to plot\n",
    "df_long = pd.melt(cancer_df[list(cancer_df.columns)[1:]], \"Class\", var_name=\"Column_name\", value_name=\"Value\")"
   ]
  },
  {
   "cell_type": "code",
   "execution_count": 19,
   "metadata": {},
   "outputs": [
    {
     "data": {
      "image/png": "[encoded data removed]",
      "text/plain": [
       "<Figure size 1008x648 with 1 Axes>"
      ]
     },
     "metadata": {
      "needs_background": "light"
     },
     "output_type": "display_data"
    }
   ],
   "source": [
    "fig = plt.figure(figsize=(14,9))\n",
    "ax = fig.add_subplot(111)\n",
    "sns.violinplot(x='Column_name',y='Value',inner='quartile',data=df_long,hue='Class',split=False,ax=ax)\n",
    "ax.set_xticklabels(ax.get_xticklabels(),rotation=30)\n",
    "plt.savefig('Violinplot_cancers.png',dpi=200)\n",
    "plt.tight_layout()\n",
    "plt.show()"
   ]
  },
  {
   "cell_type": "code",
   "execution_count": 20,
   "metadata": {},
   "outputs": [
    {
     "data": {
      "image/png": "[encoded data removed]",
      "text/plain": [
       "<Figure size 1080x360 with 1 Axes>"
      ]
     },
     "metadata": {
      "needs_background": "light"
     },
     "output_type": "display_data"
    }
   ],
   "source": [
    "fig = plt.figure(figsize=(15,5))\n",
    "ax = fig.add_subplot(111)\n",
    "sns.boxplot(x='Column_name',y='Value',data=df_long,hue='Class',ax=ax)\n",
    "ax.set_xticklabels(ax.get_xticklabels(),rotation=30)\n",
    "plt.show()"
   ]
  },
  {
   "cell_type": "markdown",
   "metadata": {},
   "source": [
    "There is definitely some separation between the features, which gives hope that a model will be able to discriminate between classes 2 and 4"
   ]
  },
  {
   "cell_type": "code",
   "execution_count": 21,
   "metadata": {},
   "outputs": [
    {
     "data": {
      "text/html": [
       "<div>\n",
       "<style scoped>\n",
       "    .dataframe tbody tr th:only-of-type {\n",
       "        vertical-align: middle;\n",
       "    }\n",
       "\n",
       "    .dataframe tbody tr th {\n",
       "        vertical-align: top;\n",
       "    }\n",
       "\n",
       "    .dataframe thead th {\n",
       "        text-align: right;\n",
       "    }\n",
       "</style>\n",
       "<table border=\"1\" class=\"dataframe\">\n",
       "  <thead>\n",
       "    <tr style=\"text-align: right;\">\n",
       "      <th></th>\n",
       "      <th>ID</th>\n",
       "    </tr>\n",
       "    <tr>\n",
       "      <th>Class</th>\n",
       "      <th></th>\n",
       "    </tr>\n",
       "  </thead>\n",
       "  <tbody>\n",
       "    <tr>\n",
       "      <th>0.0</th>\n",
       "      <td>15162</td>\n",
       "    </tr>\n",
       "    <tr>\n",
       "      <th>1.0</th>\n",
       "      <td>442</td>\n",
       "    </tr>\n",
       "  </tbody>\n",
       "</table>\n",
       "</div>"
      ],
      "text/plain": [
       "          ID\n",
       "Class       \n",
       "0.0    15162\n",
       "1.0      442"
      ]
     },
     "execution_count": 21,
     "metadata": {},
     "output_type": "execute_result"
    }
   ],
   "source": [
    "cancer_df[['Class','ID']].groupby('Class').count()"
   ]
  },
  {
   "cell_type": "markdown",
   "metadata": {},
   "source": [
    "The approach to take here is not obvious: There are many methods of resampling that we could try"
   ]
  },
  {
   "cell_type": "markdown",
   "metadata": {},
   "source": [
    "#### Lets start by ignoring the class imbalance and using a simple approach to do the classification"
   ]
  },
  {
   "cell_type": "code",
   "execution_count": 22,
   "metadata": {},
   "outputs": [],
   "source": [
    "from sklearn.linear_model import LogisticRegression\n",
    "from sklearn.metrics import accuracy_score, recall_score, \\\n",
    "precision_score, roc_auc_score, classification_report, f1_score\n",
    "from sklearn.model_selection import train_test_split, cross_validate"
   ]
  },
  {
   "cell_type": "code",
   "execution_count": 23,
   "metadata": {},
   "outputs": [],
   "source": [
    "X = cancer_df[list(cancer_df.columns)[1:-1]]\n",
    "y = cancer_df['Class']"
   ]
  },
  {
   "cell_type": "markdown",
   "metadata": {},
   "source": [
    "### How separable are these classes? Apply PCA here to take a look"
   ]
  },
  {
   "cell_type": "code",
   "execution_count": 24,
   "metadata": {},
   "outputs": [
    {
     "data": {
      "image/png": "[encoded data removed]",
      "text/plain": [
       "<Figure size 432x288 with 1 Axes>"
      ]
     },
     "metadata": {
      "needs_background": "light"
     },
     "output_type": "display_data"
    }
   ],
   "source": [
    "challengetools.plot_2d_space(X, y, 'No re-sampling')"
   ]
  },
  {
   "cell_type": "markdown",
   "metadata": {},
   "source": [
    "This gives hope that the classes will be linearly separable and that a logistic regression is probably all we need"
   ]
  },
  {
   "cell_type": "markdown",
   "metadata": {},
   "source": [
    "### Split so that we obtain a holdout set"
   ]
  },
  {
   "cell_type": "code",
   "execution_count": 25,
   "metadata": {},
   "outputs": [],
   "source": [
    "X_tt, X_holdout, y_tt, y_holdout = train_test_split(X, y, test_size=0.33)"
   ]
  },
  {
   "cell_type": "code",
   "execution_count": 26,
   "metadata": {},
   "outputs": [],
   "source": [
    "LR = LogisticRegression(penalty='l1',solver='liblinear')"
   ]
  },
  {
   "cell_type": "code",
   "execution_count": 27,
   "metadata": {},
   "outputs": [],
   "source": [
    "scores = cross_validate(LR,X_tt,y_tt,cv=5,scoring='recall')"
   ]
  },
  {
   "cell_type": "code",
   "execution_count": 28,
   "metadata": {},
   "outputs": [
    {
     "name": "stderr",
     "output_type": "stream",
     "text": [
      "/Users/rmartinshort/anaconda/envs/Insight/lib/python3.6/site-packages/sklearn/utils/deprecation.py:125: FutureWarning: You are accessing a training score ('train_score'), which will not be available by default any more in 0.21. If you need training scores, please set return_train_score=True\n",
      "  warnings.warn(*warn_args, **warn_kwargs)\n"
     ]
    },
    {
     "data": {
      "text/plain": [
       "{'fit_time': array([0.10580707, 0.04424596, 0.05604315, 0.03739285, 0.03708911]),\n",
       " 'score_time': array([0.00404787, 0.00212622, 0.00394011, 0.00187993, 0.00212979]),\n",
       " 'test_score': array([0.98387097, 0.96774194, 0.9516129 , 0.96774194, 1.        ]),\n",
       " 'train_score': array([0.97165992, 0.97165992, 0.9757085 , 0.97165992, 0.96774194])}"
      ]
     },
     "execution_count": 28,
     "metadata": {},
     "output_type": "execute_result"
    }
   ],
   "source": [
    "scores"
   ]
  },
  {
   "cell_type": "code",
   "execution_count": 29,
   "metadata": {},
   "outputs": [
    {
     "data": {
      "text/plain": [
       "LogisticRegression(C=1.0, class_weight=None, dual=False, fit_intercept=True,\n",
       "          intercept_scaling=1, max_iter=100, multi_class='warn',\n",
       "          n_jobs=None, penalty='l1', random_state=None, solver='liblinear',\n",
       "          tol=0.0001, verbose=0, warm_start=False)"
      ]
     },
     "execution_count": 29,
     "metadata": {},
     "output_type": "execute_result"
    }
   ],
   "source": [
    "LR.fit(X_tt,y_tt)"
   ]
  },
  {
   "cell_type": "code",
   "execution_count": 30,
   "metadata": {},
   "outputs": [],
   "source": [
    "y_class = LR.predict(X_holdout)"
   ]
  },
  {
   "cell_type": "code",
   "execution_count": 31,
   "metadata": {},
   "outputs": [
    {
     "data": {
      "text/plain": [
       "0.9988349514563106"
      ]
     },
     "execution_count": 31,
     "metadata": {},
     "output_type": "execute_result"
    }
   ],
   "source": [
    "#As espected, this is very high\n",
    "accuracy_score(y_holdout,y_class)"
   ]
  },
  {
   "cell_type": "code",
   "execution_count": 32,
   "metadata": {},
   "outputs": [
    {
     "data": {
      "text/plain": [
       "0.9699248120300752"
      ]
     },
     "execution_count": 32,
     "metadata": {},
     "output_type": "execute_result"
    }
   ],
   "source": [
    "#recall score is also good\n",
    "recall_score(y_holdout,y_class)"
   ]
  },
  {
   "cell_type": "code",
   "execution_count": 33,
   "metadata": {},
   "outputs": [
    {
     "data": {
      "text/plain": [
       "0.9847328244274809"
      ]
     },
     "execution_count": 33,
     "metadata": {},
     "output_type": "execute_result"
    }
   ],
   "source": [
    "#precision score is also good\n",
    "precision_score(y_holdout,y_class)"
   ]
  },
  {
   "cell_type": "code",
   "execution_count": 34,
   "metadata": {},
   "outputs": [
    {
     "name": "stdout",
     "output_type": "stream",
     "text": [
      "              precision    recall  f1-score   support\n",
      "\n",
      "         0.0       1.00      1.00      1.00      5017\n",
      "         1.0       0.98      0.97      0.98       133\n",
      "\n",
      "   micro avg       1.00      1.00      1.00      5150\n",
      "   macro avg       0.99      0.98      0.99      5150\n",
      "weighted avg       1.00      1.00      1.00      5150\n",
      "\n"
     ]
    }
   ],
   "source": [
    "#This is a surprisingly good result\n",
    "print(classification_report(y_holdout,y_class))"
   ]
  },
  {
   "cell_type": "code",
   "execution_count": 35,
   "metadata": {},
   "outputs": [
    {
     "data": {
      "image/png": "[encoded data removed]",
      "text/plain": [
       "<Figure size 432x288 with 1 Axes>"
      ]
     },
     "metadata": {
      "needs_background": "light"
     },
     "output_type": "display_data"
    }
   ],
   "source": [
    "challengetools.precision_recall(y_holdout,LR.predict_proba(X_holdout)[:,1])"
   ]
  },
  {
   "cell_type": "markdown",
   "metadata": {},
   "source": [
    "#### Lets try undersampling as one method of addressing the class imbalance to see if the results change"
   ]
  },
  {
   "cell_type": "code",
   "execution_count": 36,
   "metadata": {},
   "outputs": [],
   "source": [
    "from imblearn.under_sampling import RandomUnderSampler"
   ]
  },
  {
   "cell_type": "code",
   "execution_count": 37,
   "metadata": {},
   "outputs": [
    {
     "data": {
      "image/png": "[encoded data removed]",
      "text/plain": [
       "<Figure size 432x288 with 1 Axes>"
      ]
     },
     "metadata": {
      "needs_background": "light"
     },
     "output_type": "display_data"
    }
   ],
   "source": [
    "rus = RandomUnderSampler(return_indices=True)\n",
    "X_rus, y_rus, id_rus = rus.fit_sample(X_tt, y_tt)\n",
    "\n",
    "challengetools.plot_2d_space(X_rus, y_rus, 'Random under-sampling')"
   ]
  },
  {
   "cell_type": "code",
   "execution_count": 38,
   "metadata": {},
   "outputs": [
    {
     "name": "stdout",
     "output_type": "stream",
     "text": [
      "Number of negative examples: 309\n",
      "Number of positive examples: 309\n"
     ]
    }
   ],
   "source": [
    "print('Number of negative examples: %i' %len(y_rus[y_rus==0]))\n",
    "print('Number of positive examples: %i' %len(y_rus[y_rus==1]))"
   ]
  },
  {
   "cell_type": "code",
   "execution_count": 39,
   "metadata": {},
   "outputs": [],
   "source": [
    "X_train, X_test, y_train, y_test = train_test_split(X_rus, y_rus, test_size=0.33)"
   ]
  },
  {
   "cell_type": "code",
   "execution_count": 40,
   "metadata": {},
   "outputs": [
    {
     "data": {
      "text/plain": [
       "LogisticRegression(C=1.0, class_weight=None, dual=False, fit_intercept=True,\n",
       "          intercept_scaling=1, max_iter=100, multi_class='warn',\n",
       "          n_jobs=None, penalty='l1', random_state=None, solver='liblinear',\n",
       "          tol=0.0001, verbose=0, warm_start=False)"
      ]
     },
     "execution_count": 40,
     "metadata": {},
     "output_type": "execute_result"
    }
   ],
   "source": [
    "LR.fit(X_train,y_train)"
   ]
  },
  {
   "cell_type": "code",
   "execution_count": 41,
   "metadata": {},
   "outputs": [],
   "source": [
    "y_class = LR.predict(X_holdout)"
   ]
  },
  {
   "cell_type": "code",
   "execution_count": 42,
   "metadata": {},
   "outputs": [
    {
     "name": "stdout",
     "output_type": "stream",
     "text": [
      "0.998252427184466\n",
      "0.9774436090225563\n",
      "0.9558823529411765\n"
     ]
    }
   ],
   "source": [
    "print(accuracy_score(y_holdout,y_class))\n",
    "print(recall_score(y_holdout,y_class))\n",
    "print(precision_score(y_holdout,y_class))"
   ]
  },
  {
   "cell_type": "markdown",
   "metadata": {},
   "source": [
    "The recall score is higher on the undersampled test. Since we probably care most about that, lets o ahead and say that we want to use undersampling in future"
   ]
  },
  {
   "cell_type": "code",
   "execution_count": 43,
   "metadata": {},
   "outputs": [
    {
     "name": "stdout",
     "output_type": "stream",
     "text": [
      "              precision    recall  f1-score   support\n",
      "\n",
      "         0.0       1.00      1.00      1.00      5017\n",
      "         1.0       0.96      0.98      0.97       133\n",
      "\n",
      "   micro avg       1.00      1.00      1.00      5150\n",
      "   macro avg       0.98      0.99      0.98      5150\n",
      "weighted avg       1.00      1.00      1.00      5150\n",
      "\n"
     ]
    }
   ],
   "source": [
    "#This is a surprisingly good result - the model is basically able to pefectly predict cancer given\n",
    "#all the features we have here\n",
    "print(classification_report(y_holdout,y_class))"
   ]
  },
  {
   "cell_type": "markdown",
   "metadata": {},
   "source": [
    "### What about feature importances? Since we're using an l1 penalty, we can compute feature importances from the logistic regression"
   ]
  },
  {
   "cell_type": "code",
   "execution_count": 44,
   "metadata": {},
   "outputs": [],
   "source": [
    "fimportances = LR.coef_[0]"
   ]
  },
  {
   "cell_type": "code",
   "execution_count": 45,
   "metadata": {},
   "outputs": [],
   "source": [
    "feature_order = np.argsort(abs(fimportances))[::-1]\n",
    "feature_cols = list(cancer_df.columns)[1:-1]"
   ]
  },
  {
   "cell_type": "code",
   "execution_count": 46,
   "metadata": {},
   "outputs": [
    {
     "data": {
      "text/plain": [
       "['Clump Thickness',\n",
       " 'Uniformity of Cell Size',\n",
       " 'Uniformity of Cell Shape',\n",
       " 'Marginal Adhesion',\n",
       " 'Single Epithelial Cell Size',\n",
       " 'Bare Nuclei',\n",
       " 'Bland Chromatin',\n",
       " 'Normal Nucleoli',\n",
       " 'Mitoses']"
      ]
     },
     "execution_count": 46,
     "metadata": {},
     "output_type": "execute_result"
    }
   ],
   "source": [
    "feature_cols"
   ]
  },
  {
   "cell_type": "code",
   "execution_count": 47,
   "metadata": {},
   "outputs": [
    {
     "data": {
      "text/plain": [
       "array([0, 7, 3, 6, 8, 4, 1, 5, 2])"
      ]
     },
     "execution_count": 47,
     "metadata": {},
     "output_type": "execute_result"
    }
   ],
   "source": [
    "feature_order"
   ]
  },
  {
   "cell_type": "code",
   "execution_count": 48,
   "metadata": {},
   "outputs": [
    {
     "name": "stdout",
     "output_type": "stream",
     "text": [
      "Feature: Clump Thickness, importance: 0.7948169478225335\n",
      "Feature: Normal Nucleoli, importance: 0.7141137195199726\n",
      "Feature: Marginal Adhesion, importance: 0.5693774339843357\n",
      "Feature: Bland Chromatin, importance: 0.5445630538367475\n",
      "Feature: Mitoses, importance: 0.520508532060747\n",
      "Feature: Single Epithelial Cell Size, importance: 0.4847008547052842\n",
      "Feature: Uniformity of Cell Size, importance: 0.30887430270087257\n",
      "Feature: Bare Nuclei, importance: 0.0512898081709674\n",
      "Feature: Uniformity of Cell Shape, importance: 0.0\n"
     ]
    }
   ],
   "source": [
    "for i in range(len(feature_cols)):\n",
    "    ind = feature_order[i]\n",
    "    print('Feature: %s, importance: %s' %(feature_cols[ind],abs(fimportances[ind])))"
   ]
  },
  {
   "cell_type": "markdown",
   "metadata": {},
   "source": [
    "We need to write code that will remove one feature at a time, retrain the model and report a score"
   ]
  },
  {
   "cell_type": "code",
   "execution_count": 49,
   "metadata": {},
   "outputs": [
    {
     "name": "stdout",
     "output_type": "stream",
     "text": [
      "\n",
      "-----------------------------------\n",
      "Number of features: 9\n",
      "Testing scores from cross validation\n",
      "[1.         0.97520661 0.99173554 0.98305085 0.97435897]\n",
      "-----------------------------------\n",
      "F1 holdout score 0.965278 on 9 features\n",
      "-----------------------------------\n",
      "Feature: Clump Thickness, importance: 0.626\n",
      "Feature: Uniformity of Cell Size, importance: 0.623\n",
      "Feature: Mitoses, importance: 0.617\n",
      "Feature: Marginal Adhesion, importance: 0.506\n",
      "Feature: Bland Chromatin, importance: 0.364\n",
      "Feature: Bare Nuclei, importance: 0.161\n",
      "Feature: Single Epithelial Cell Size, importance: 0.110\n",
      "Feature: Uniformity of Cell Shape, importance: 0.070\n",
      "Feature: Normal Nucleoli, importance: 0.017\n",
      "-----------------------------------\n",
      "\n",
      "-----------------------------------\n",
      "Number of features: 8\n",
      "Testing scores from cross validation\n",
      "[1.         0.99173554 0.99173554 0.98305085 0.98305085]\n",
      "-----------------------------------\n",
      "F1 holdout score 0.952055 on 8 features\n",
      "-----------------------------------\n",
      "Feature: Uniformity of Cell Size, importance: 0.925\n",
      "Feature: Clump Thickness, importance: 0.713\n",
      "Feature: Mitoses, importance: 0.678\n",
      "Feature: Marginal Adhesion, importance: 0.609\n",
      "Feature: Single Epithelial Cell Size, importance: 0.390\n",
      "Feature: Bland Chromatin, importance: 0.322\n",
      "Feature: Bare Nuclei, importance: 0.010\n",
      "Feature: Uniformity of Cell Shape, importance: 0.000\n",
      "-----------------------------------\n",
      "\n",
      "-----------------------------------\n",
      "Number of features: 7\n",
      "Testing scores from cross validation\n",
      "[1.         0.99173554 0.99173554 0.98305085 0.98305085]\n",
      "-----------------------------------\n",
      "F1 holdout score 0.952055 on 7 features\n",
      "-----------------------------------\n",
      "Feature: Uniformity of Cell Size, importance: 0.971\n",
      "Feature: Clump Thickness, importance: 0.665\n",
      "Feature: Mitoses, importance: 0.655\n",
      "Feature: Marginal Adhesion, importance: 0.630\n",
      "Feature: Single Epithelial Cell Size, importance: 0.408\n",
      "Feature: Bland Chromatin, importance: 0.270\n",
      "Feature: Bare Nuclei, importance: 0.033\n",
      "-----------------------------------\n",
      "\n",
      "-----------------------------------\n",
      "Number of features: 6\n",
      "Testing scores from cross validation\n",
      "[1.         0.99173554 0.99173554 0.99159664 0.98305085]\n",
      "-----------------------------------\n",
      "F1 holdout score 0.948805 on 6 features\n",
      "-----------------------------------\n",
      "Feature: Uniformity of Cell Size, importance: 0.930\n",
      "Feature: Clump Thickness, importance: 0.706\n",
      "Feature: Marginal Adhesion, importance: 0.667\n",
      "Feature: Mitoses, importance: 0.619\n",
      "Feature: Single Epithelial Cell Size, importance: 0.443\n",
      "Feature: Bland Chromatin, importance: 0.364\n",
      "-----------------------------------\n",
      "\n",
      "-----------------------------------\n",
      "Number of features: 5\n",
      "Testing scores from cross validation\n",
      "[1.         0.99173554 0.99173554 0.99159664 0.97435897]\n",
      "-----------------------------------\n",
      "F1 holdout score 0.955326 on 5 features\n",
      "-----------------------------------\n",
      "Feature: Uniformity of Cell Size, importance: 0.988\n",
      "Feature: Clump Thickness, importance: 0.822\n",
      "Feature: Marginal Adhesion, importance: 0.648\n",
      "Feature: Mitoses, importance: 0.595\n",
      "Feature: Single Epithelial Cell Size, importance: 0.440\n",
      "-----------------------------------\n",
      "\n",
      "-----------------------------------\n",
      "Number of features: 4\n",
      "Testing scores from cross validation\n",
      "[0.99186992 0.98333333 0.99173554 0.98305085 0.98305085]\n",
      "-----------------------------------\n",
      "F1 holdout score 0.965278 on 4 features\n",
      "-----------------------------------\n",
      "Feature: Uniformity of Cell Size, importance: 0.866\n",
      "Feature: Clump Thickness, importance: 0.715\n",
      "Feature: Mitoses, importance: 0.530\n",
      "Feature: Marginal Adhesion, importance: 0.496\n",
      "-----------------------------------\n",
      "\n",
      "-----------------------------------\n",
      "Number of features: 3\n",
      "Testing scores from cross validation\n",
      "[0.99173554 0.99173554 0.99173554 0.98305085 0.98305085]\n",
      "-----------------------------------\n",
      "F1 holdout score 0.958621 on 3 features\n",
      "-----------------------------------\n",
      "Feature: Uniformity of Cell Size, importance: 1.353\n",
      "Feature: Clump Thickness, importance: 0.580\n",
      "Feature: Mitoses, importance: 0.553\n",
      "-----------------------------------\n",
      "\n",
      "-----------------------------------\n",
      "Number of features: 2\n",
      "Testing scores from cross validation\n",
      "[0.98333333 0.98333333 0.98333333 0.99159664 0.98305085]\n",
      "-----------------------------------\n",
      "F1 holdout score 0.965035 on 2 features\n",
      "-----------------------------------\n",
      "Feature: Uniformity of Cell Size, importance: 1.261\n",
      "Feature: Clump Thickness, importance: 0.740\n",
      "-----------------------------------\n",
      "\n",
      "-----------------------------------\n",
      "Number of features: 1\n",
      "Testing scores from cross validation\n",
      "[0.98387097 0.97478992 0.97560976 0.94308943 0.890625  ]\n",
      "-----------------------------------\n",
      "F1 holdout score 0.491039 on 1 features\n",
      "-----------------------------------\n",
      "Feature: Uniformity of Cell Size, importance: 1.671\n",
      "-----------------------------------\n"
     ]
    }
   ],
   "source": [
    "holdout_recall_scores, holdout_precision_scores, holdout_f1_scores, \\\n",
    "used_columns = challengetools.remove_features_one_by_one(X,y)"
   ]
  },
  {
   "cell_type": "code",
   "execution_count": 54,
   "metadata": {},
   "outputs": [
    {
     "data": {
      "image/png": "[encoded data removed]",
      "text/plain": [
       "<Figure size 1080x360 with 3 Axes>"
      ]
     },
     "metadata": {},
     "output_type": "display_data"
    }
   ],
   "source": [
    "plt.style.use('ggplot')\n",
    "\n",
    "fig = plt.figure(figsize=(15,5))\n",
    "ax1 = fig.add_subplot(131)\n",
    "ax2 = fig.add_subplot(132)\n",
    "ax3 = fig.add_subplot(133)\n",
    "\n",
    "ax1.bar(x=np.arange(9,0,-1),height=holdout_recall_scores,color='red')\n",
    "ax1.set_xticks(np.arange(9,0,-1))\n",
    "ax1.set_xlabel('Number of features')\n",
    "ax1.set_ylabel('Holdout score')\n",
    "ax1.set_title('RECALL')\n",
    "\n",
    "ax2.bar(x=np.arange(9,0,-1),height=holdout_precision_scores,color='blue')\n",
    "ax2.set_xticks(np.arange(9,0,-1))\n",
    "ax2.set_xlabel('Number of features')\n",
    "ax2.set_ylabel('Holdout score')\n",
    "ax2.set_title('PRECISION')\n",
    "\n",
    "ax3.bar(x=np.arange(9,0,-1),height=holdout_f1_scores,color='green')\n",
    "ax3.set_xticks(np.arange(9,0,-1))\n",
    "ax3.set_xlabel('Number of features')\n",
    "ax3.set_ylabel('Holdout score')\n",
    "ax3.set_title('F1')\n",
    "\n",
    "plt.savefig('Dropfig_score.png',dpi=200)"
   ]
  },
  {
   "cell_type": "code",
   "execution_count": 51,
   "metadata": {},
   "outputs": [
    {
     "name": "stdout",
     "output_type": "stream",
     "text": [
      "{9: ['Clump Thickness', 'Uniformity of Cell Size', 'Uniformity of Cell Shape', 'Marginal Adhesion', 'Single Epithelial Cell Size', 'Bare Nuclei', 'Bland Chromatin', 'Normal Nucleoli', 'Mitoses'], 8: ['Clump Thickness', 'Uniformity of Cell Size', 'Uniformity of Cell Shape', 'Marginal Adhesion', 'Single Epithelial Cell Size', 'Bare Nuclei', 'Bland Chromatin', 'Mitoses'], 7: ['Clump Thickness', 'Uniformity of Cell Size', 'Marginal Adhesion', 'Single Epithelial Cell Size', 'Bare Nuclei', 'Bland Chromatin', 'Mitoses'], 6: ['Clump Thickness', 'Uniformity of Cell Size', 'Marginal Adhesion', 'Single Epithelial Cell Size', 'Bland Chromatin', 'Mitoses'], 5: ['Clump Thickness', 'Uniformity of Cell Size', 'Marginal Adhesion', 'Single Epithelial Cell Size', 'Mitoses'], 4: ['Clump Thickness', 'Uniformity of Cell Size', 'Marginal Adhesion', 'Mitoses'], 3: ['Clump Thickness', 'Uniformity of Cell Size', 'Mitoses'], 2: ['Clump Thickness', 'Uniformity of Cell Size'], 1: ['Uniformity of Cell Size']}\n"
     ]
    }
   ],
   "source": [
    "print(used_columns)"
   ]
  },
  {
   "cell_type": "code",
   "execution_count": null,
   "metadata": {},
   "outputs": [],
   "source": []
  }
 ],
 "metadata": {
  "kernelspec": {
   "display_name": "Python 3",
   "language": "python",
   "name": "python3"
  },
  "language_info": {
   "codemirror_mode": {
    "name": "ipython",
    "version": 3
   },
   "file_extension": ".py",
   "mimetype": "text/x-python",
   "name": "python",
   "nbconvert_exporter": "python",
   "pygments_lexer": "ipython3",
   "version": "3.6.7"
  }
 },
 "nbformat": 4,
 "nbformat_minor": 2
}
